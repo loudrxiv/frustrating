{
 "cells": [
  {
   "cell_type": "markdown",
   "metadata": {},
   "source": [
    "# Load libraries, define constants, functions, and classes"
   ]
  },
  {
   "cell_type": "markdown",
   "metadata": {},
   "source": [
    "* libraries"
   ]
  },
  {
   "cell_type": "code",
   "execution_count": 1,
   "metadata": {},
   "outputs": [],
   "source": [
    "import os\n",
    "\n",
    "import sys\n",
    "sys.path.append(\"../../3_train_and_test_models\")\n",
    "\n",
    "import numpy as np\n",
    "import pandas as pd\n",
    "\n",
    "from params import ROOT, SPECIES, TFS\n",
    "from collections import defaultdict\n",
    "from sklearn.metrics import average_precision_score, roc_auc_score"
   ]
  },
  {
   "cell_type": "markdown",
   "metadata": {},
   "source": [
    "* paths and constants"
   ]
  },
  {
   "cell_type": "code",
   "execution_count": 2,
   "metadata": {},
   "outputs": [],
   "source": [
    "os.makedirs(f\"{ROOT}/plots\", exist_ok=True)"
   ]
  },
  {
   "cell_type": "code",
   "execution_count": 3,
   "metadata": {
    "tags": []
   },
   "outputs": [],
   "source": [
    "HOLDOUTS    = [None, 0, 1, 2, 3]"
   ]
  },
  {
   "cell_type": "markdown",
   "metadata": {},
   "source": [
    "* Helper functions we use"
   ]
  },
  {
   "cell_type": "code",
   "execution_count": 4,
   "metadata": {
    "tags": []
   },
   "outputs": [],
   "source": [
    "def get_preds_file(test_species, tf, holdout):\n",
    "    preds_root = ROOT + \"/model_out\"\n",
    "    os.makedirs(preds_root, exist_ok=True)\n",
    "    if holdout is None:\n",
    "        return f\"{preds_root}/EvoPS-None_{tf}_{test_species}-tested.preds.npy\"\n",
    "    else:\n",
    "        return f\"{preds_root}/EvoPS-{holdout}_{tf}_{test_species}-tested.preds.npy\"\n",
    "\n",
    "def get_labels_file(test_species, tf, holdout):\n",
    "    preds_root = ROOT + \"/model_out\"\n",
    "    os.makedirs(preds_root, exist_ok=True)\n",
    "    if holdout is None:\n",
    "        return f\"{preds_root}/EvoPS-None_{tf}_{test_species}-tested.labels.npy\"\n",
    "    else:\n",
    "        return f\"{preds_root}/EvoPS-{holdout}_{tf}_{test_species}-tested.labels.npy\"\n",
    "\n",
    "def load_all_test_sets():\n",
    "    preds_dict  = defaultdict(lambda: defaultdict(lambda: defaultdict(lambda: defaultdict(dict))))\n",
    "    labels_dict = defaultdict(lambda: defaultdict(lambda: defaultdict(lambda: defaultdict(dict))))\n",
    "\n",
    "    for species in SPECIES:\n",
    "        for tf in TFS:\n",
    "            for holdout in HOLDOUTS:\n",
    "                print(f\"=== {tf}-Evo on {species} with {holdout} holdouts ===\")\n",
    "                preds_file  = get_preds_file(tf=tf, test_species=species, holdout=holdout)\n",
    "                labels_file = get_labels_file(tf=tf, test_species=species, holdout=holdout)\n",
    "                preds_dict[tf][species][holdout]    = np.load(preds_file)\n",
    "                labels_dict[tf][species][holdout]   = np.load(labels_file)\n",
    "\n",
    "    return preds_dict, labels_dict"
   ]
  },
  {
   "cell_type": "code",
   "execution_count": 5,
   "metadata": {},
   "outputs": [],
   "source": [
    "def format_data_for_seaborn(auPRC_dicts, auROC_dicts):\n",
    "\n",
    "    # This function re-formats the performance dictionaries into\n",
    "    # one pandas DataFrame that matches how seaborn expects.\n",
    "    tf_col      = []\n",
    "    holdout_col = []\n",
    "    auprc_col   = []\n",
    "    auroc_col   = []\n",
    "    species_col = []\n",
    "\n",
    "    for species in SPECIES:\n",
    "        for tf in TFS:\n",
    "            for num_holdout in HOLDOUTS:\n",
    "                tf_col.extend([tf])\n",
    "                holdout_col.extend([num_holdout])\n",
    "                species_col.extend([species])\n",
    "\n",
    "                # Now grab the five-fold for the current TF and domain\n",
    "                auprc_col.extend([auPRC_dicts[tf][species][num_holdout]])\n",
    "                auroc_col.extend([auROC_dicts[tf][species][num_holdout]])\n",
    "        \n",
    "    return pd.DataFrame({\"Species\":species_col, \"TF\":tf_col, \"Holdouts\":holdout_col, \"auPRC\":auprc_col, \"auROC\":auroc_col})\n",
    "\n",
    "def get_auPRCs(labels, preds):\n",
    "    # This function calculates the auPRC for each set of\n",
    "    # predictions passed in. The length of the 2nd axis\n",
    "    # of the predictions array passed in will be the # of\n",
    "    # auPRCs returned as a list. The length of the 1st axis\n",
    "    # of the predictions array should match the length\n",
    "    # of the labels array.\n",
    "    if len(preds) != len(labels):\n",
    "        print(f\"Truncating so that {len(preds)} matches {len(labels)}\")\n",
    "\n",
    "    # (1) Adjust the label length to match the prediction length\n",
    "    len_to_truncate_by = preds.shape[0]\n",
    "\n",
    "    labels = labels[:len_to_truncate_by]\n",
    "\n",
    "    # (3) Calculate the AUC-ROC and AUC-PR for each of the five-folds\n",
    "    return average_precision_score(labels, preds)\n",
    "\n",
    "def get_auROCs(labels, preds):\n",
    "    # This function calculates the auROC for each set of\n",
    "    # predictions passed in. The length of the 2nd axis\n",
    "    # of the predictions array passed in will be the # of\n",
    "    # auROCs returned as a list. The length of the 1st axis\n",
    "    # of the predictions array should match the length\n",
    "    # of the labels array.\n",
    "    if len(preds) != len(labels):\n",
    "        print(f\"Truncating so that {len(preds)} matches {len(labels)}\")\n",
    "\n",
    "    # (1) Adjust the label length to match the prediction length\n",
    "    len_to_truncate_by = preds.shape[0]\n",
    "\n",
    "    labels = labels[:len_to_truncate_by]\n",
    "\n",
    "    # (3) Calculate the AUC-ROC and AUC-PR for each of the five-folds\n",
    "    return roc_auc_score(labels, preds)\n",
    "\n",
    "def get_performance_df(preds_dict, labels_dict):\n",
    "\n",
    "    # This function loads in binding labels for each TF for \n",
    "    # a given test species, and for each TF, calculates the auPRC\n",
    "    # using each set of predictions that is input in \"preds_dict\".\n",
    "    auPRC_dicts = defaultdict(lambda: defaultdict(lambda: defaultdict(lambda: defaultdict(dict))))\n",
    "    auROC_dicts = defaultdict(lambda: defaultdict(lambda: defaultdict(lambda: defaultdict(dict))))\n",
    "\n",
    "    for species in SPECIES:\n",
    "        for tf in TFS:\n",
    "            for holdout in HOLDOUTS:\n",
    "                model_preds = preds_dict[tf][species][holdout].squeeze()\n",
    "                labels      = labels_dict[tf][species][holdout].squeeze()\n",
    "                \n",
    "                # Save predictions\n",
    "                auPRC_dicts[tf][species][holdout] = get_auPRCs(labels, model_preds)\n",
    "                auROC_dicts[tf][species][holdout] = get_auROCs(labels, model_preds)\n",
    "\n",
    "    # Before returning all the auPRCs in dictionaries,\n",
    "    # we just need to reformat how they are stored\n",
    "    # because seaborn expects particularly formatted input\n",
    "    return format_data_for_seaborn(auPRC_dicts, auROC_dicts)"
   ]
  },
  {
   "cell_type": "markdown",
   "metadata": {},
   "source": [
    "# Save into usable format"
   ]
  },
  {
   "cell_type": "code",
   "execution_count": null,
   "metadata": {
    "tags": []
   },
   "outputs": [
    {
     "name": "stdout",
     "output_type": "stream",
     "text": [
      "=== CEBPA-Evo on mm10 with None holdouts ===\n",
      "=== CEBPA-Evo on mm10 with 0 holdouts ===\n",
      "=== CEBPA-Evo on mm10 with 1 holdouts ===\n",
      "=== CEBPA-Evo on mm10 with 2 holdouts ===\n",
      "=== CEBPA-Evo on mm10 with 3 holdouts ===\n",
      "=== FOXA1-Evo on mm10 with None holdouts ===\n",
      "=== FOXA1-Evo on mm10 with 0 holdouts ===\n",
      "=== FOXA1-Evo on mm10 with 1 holdouts ===\n",
      "=== FOXA1-Evo on mm10 with 2 holdouts ===\n",
      "=== FOXA1-Evo on mm10 with 3 holdouts ===\n",
      "=== HNF4A-Evo on mm10 with None holdouts ===\n",
      "=== HNF4A-Evo on mm10 with 0 holdouts ===\n",
      "=== HNF4A-Evo on mm10 with 1 holdouts ===\n",
      "=== HNF4A-Evo on mm10 with 2 holdouts ===\n",
      "=== HNF4A-Evo on mm10 with 3 holdouts ===\n",
      "=== HNF6-Evo on mm10 with None holdouts ===\n",
      "=== HNF6-Evo on mm10 with 0 holdouts ===\n",
      "=== HNF6-Evo on mm10 with 1 holdouts ===\n",
      "=== HNF6-Evo on mm10 with 2 holdouts ===\n",
      "=== HNF6-Evo on mm10 with 3 holdouts ===\n",
      "=== CEBPA-Evo on hg38 with None holdouts ===\n",
      "=== CEBPA-Evo on hg38 with 0 holdouts ===\n",
      "=== CEBPA-Evo on hg38 with 1 holdouts ===\n",
      "=== CEBPA-Evo on hg38 with 2 holdouts ===\n",
      "=== CEBPA-Evo on hg38 with 3 holdouts ===\n",
      "=== FOXA1-Evo on hg38 with None holdouts ===\n",
      "=== FOXA1-Evo on hg38 with 0 holdouts ===\n",
      "=== FOXA1-Evo on hg38 with 1 holdouts ===\n",
      "=== FOXA1-Evo on hg38 with 2 holdouts ===\n",
      "=== FOXA1-Evo on hg38 with 3 holdouts ===\n",
      "=== HNF4A-Evo on hg38 with None holdouts ===\n",
      "=== HNF4A-Evo on hg38 with 0 holdouts ===\n",
      "=== HNF4A-Evo on hg38 with 1 holdouts ===\n",
      "=== HNF4A-Evo on hg38 with 2 holdouts ===\n",
      "=== HNF4A-Evo on hg38 with 3 holdouts ===\n",
      "=== HNF6-Evo on hg38 with None holdouts ===\n",
      "=== HNF6-Evo on hg38 with 0 holdouts ===\n",
      "=== HNF6-Evo on hg38 with 1 holdouts ===\n",
      "=== HNF6-Evo on hg38 with 2 holdouts ===\n",
      "=== HNF6-Evo on hg38 with 3 holdouts ===\n",
      "=== CEBPA-Evo on rheMac10 with None holdouts ===\n",
      "=== CEBPA-Evo on rheMac10 with 0 holdouts ===\n",
      "=== CEBPA-Evo on rheMac10 with 1 holdouts ===\n",
      "=== CEBPA-Evo on rheMac10 with 2 holdouts ===\n",
      "=== CEBPA-Evo on rheMac10 with 3 holdouts ===\n",
      "=== FOXA1-Evo on rheMac10 with None holdouts ===\n",
      "=== FOXA1-Evo on rheMac10 with 0 holdouts ===\n",
      "=== FOXA1-Evo on rheMac10 with 1 holdouts ===\n",
      "=== FOXA1-Evo on rheMac10 with 2 holdouts ===\n",
      "=== FOXA1-Evo on rheMac10 with 3 holdouts ===\n",
      "=== HNF4A-Evo on rheMac10 with None holdouts ===\n",
      "=== HNF4A-Evo on rheMac10 with 0 holdouts ===\n",
      "=== HNF4A-Evo on rheMac10 with 1 holdouts ===\n",
      "=== HNF4A-Evo on rheMac10 with 2 holdouts ===\n",
      "=== HNF4A-Evo on rheMac10 with 3 holdouts ===\n",
      "=== HNF6-Evo on rheMac10 with None holdouts ===\n",
      "=== HNF6-Evo on rheMac10 with 0 holdouts ===\n",
      "=== HNF6-Evo on rheMac10 with 1 holdouts ===\n",
      "=== HNF6-Evo on rheMac10 with 2 holdouts ===\n",
      "=== HNF6-Evo on rheMac10 with 3 holdouts ===\n",
      "=== CEBPA-Evo on canFam6 with None holdouts ===\n",
      "=== CEBPA-Evo on canFam6 with 0 holdouts ===\n",
      "=== CEBPA-Evo on canFam6 with 1 holdouts ===\n",
      "=== CEBPA-Evo on canFam6 with 2 holdouts ===\n",
      "=== CEBPA-Evo on canFam6 with 3 holdouts ===\n",
      "=== FOXA1-Evo on canFam6 with None holdouts ===\n",
      "=== FOXA1-Evo on canFam6 with 0 holdouts ===\n",
      "=== FOXA1-Evo on canFam6 with 1 holdouts ===\n",
      "=== FOXA1-Evo on canFam6 with 2 holdouts ===\n",
      "=== FOXA1-Evo on canFam6 with 3 holdouts ===\n",
      "=== HNF4A-Evo on canFam6 with None holdouts ===\n",
      "=== HNF4A-Evo on canFam6 with 0 holdouts ===\n",
      "=== HNF4A-Evo on canFam6 with 1 holdouts ===\n",
      "=== HNF4A-Evo on canFam6 with 2 holdouts ===\n",
      "=== HNF4A-Evo on canFam6 with 3 holdouts ===\n",
      "=== HNF6-Evo on canFam6 with None holdouts ===\n",
      "=== HNF6-Evo on canFam6 with 0 holdouts ===\n",
      "=== HNF6-Evo on canFam6 with 1 holdouts ===\n",
      "=== HNF6-Evo on canFam6 with 2 holdouts ===\n",
      "=== HNF6-Evo on canFam6 with 3 holdouts ===\n",
      "=== CEBPA-Evo on rn7 with None holdouts ===\n",
      "=== CEBPA-Evo on rn7 with 0 holdouts ===\n",
      "=== CEBPA-Evo on rn7 with 1 holdouts ===\n",
      "=== CEBPA-Evo on rn7 with 2 holdouts ===\n",
      "=== CEBPA-Evo on rn7 with 3 holdouts ===\n",
      "=== FOXA1-Evo on rn7 with None holdouts ===\n",
      "=== FOXA1-Evo on rn7 with 0 holdouts ===\n",
      "=== FOXA1-Evo on rn7 with 1 holdouts ===\n",
      "=== FOXA1-Evo on rn7 with 2 holdouts ===\n",
      "=== FOXA1-Evo on rn7 with 3 holdouts ===\n",
      "=== HNF4A-Evo on rn7 with None holdouts ===\n",
      "=== HNF4A-Evo on rn7 with 0 holdouts ===\n",
      "=== HNF4A-Evo on rn7 with 1 holdouts ===\n",
      "=== HNF4A-Evo on rn7 with 2 holdouts ===\n",
      "=== HNF4A-Evo on rn7 with 3 holdouts ===\n",
      "=== HNF6-Evo on rn7 with None holdouts ===\n",
      "=== HNF6-Evo on rn7 with 0 holdouts ===\n",
      "=== HNF6-Evo on rn7 with 1 holdouts ===\n",
      "=== HNF6-Evo on rn7 with 2 holdouts ===\n",
      "=== HNF6-Evo on rn7 with 3 holdouts ===\n"
     ]
    }
   ],
   "source": [
    "preds, labels   = load_all_test_sets()\n",
    "performance_df  = get_performance_df(preds_dict=preds, labels_dict=labels)"
   ]
  },
  {
   "cell_type": "code",
   "execution_count": null,
   "metadata": {},
   "outputs": [
    {
     "name": "stdout",
     "output_type": "stream",
     "text": [
      "   Species     TF  Holdouts     auPRC     auROC\n",
      "0     mm10  CEBPA       NaN  0.333161  0.935112\n",
      "1     mm10  CEBPA       0.0  0.279257  0.922862\n",
      "2     mm10  CEBPA       1.0  0.326900  0.938497\n",
      "3     mm10  CEBPA       2.0  0.309537  0.931246\n",
      "4     mm10  CEBPA       3.0  0.317070  0.932629\n",
      "..     ...    ...       ...       ...       ...\n",
      "95     rn7   HNF6       NaN  0.221348  0.944803\n",
      "96     rn7   HNF6       0.0  0.170512  0.934182\n",
      "97     rn7   HNF6       1.0  0.205107  0.943639\n",
      "98     rn7   HNF6       2.0  0.198788  0.939172\n",
      "99     rn7   HNF6       3.0  0.221548  0.945817\n",
      "\n",
      "[100 rows x 5 columns]\n"
     ]
    }
   ],
   "source": [
    "print(performance_df)"
   ]
  },
  {
   "cell_type": "markdown",
   "metadata": {},
   "source": [
    "## Now export"
   ]
  },
  {
   "cell_type": "code",
   "execution_count": null,
   "metadata": {},
   "outputs": [],
   "source": [
    "performance_df.to_csv(ROOT + f\"/plots/evo-per-species_performance.csv\")"
   ]
  },
  {
   "cell_type": "markdown",
   "metadata": {},
   "source": [
    "-----"
   ]
  }
 ],
 "metadata": {
  "kernelspec": {
   "display_name": "pytorch",
   "language": "python",
   "name": "python3"
  },
  "language_info": {
   "codemirror_mode": {
    "name": "ipython",
    "version": 3
   },
   "file_extension": ".py",
   "mimetype": "text/x-python",
   "name": "python",
   "nbconvert_exporter": "python",
   "pygments_lexer": "ipython3",
   "version": "3.10.16"
  }
 },
 "nbformat": 4,
 "nbformat_minor": 4
}
