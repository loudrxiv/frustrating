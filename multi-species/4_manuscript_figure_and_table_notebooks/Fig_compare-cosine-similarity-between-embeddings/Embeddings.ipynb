{
 "cells": [
  {
   "cell_type": "markdown",
   "metadata": {},
   "source": [
    "# Libraries, paths, functions, and constants"
   ]
  },
  {
   "cell_type": "code",
   "execution_count": 1,
   "metadata": {},
   "outputs": [
    {
     "name": "stdout",
     "output_type": "stream",
     "text": [
      "Fri Apr  4 12:22:47 2025       \n",
      "+-----------------------------------------------------------------------------------------+\n",
      "| NVIDIA-SMI 565.77                 Driver Version: 565.77         CUDA Version: 12.7     |\n",
      "|-----------------------------------------+------------------------+----------------------+\n",
      "| GPU  Name                 Persistence-M | Bus-Id          Disp.A | Volatile Uncorr. ECC |\n",
      "| Fan  Temp   Perf          Pwr:Usage/Cap |           Memory-Usage | GPU-Util  Compute M. |\n",
      "|                                         |                        |               MIG M. |\n",
      "|=========================================+========================+======================|\n",
      "|   0  NVIDIA L40                     Off |   00000000:28:00.0 Off |                    0 |\n",
      "| N/A   45C    P0             89W /  300W |       1MiB /  46068MiB |    100%      Default |\n",
      "|                                         |                        |                  N/A |\n",
      "+-----------------------------------------+------------------------+----------------------+\n",
      "                                                                                         \n",
      "+-----------------------------------------------------------------------------------------+\n",
      "| Processes:                                                                              |\n",
      "|  GPU   GI   CI        PID   Type   Process name                              GPU Memory |\n",
      "|        ID   ID                                                               Usage      |\n",
      "|=========================================================================================|\n",
      "|  No running processes found                                                             |\n",
      "+-----------------------------------------------------------------------------------------+\n"
     ]
    }
   ],
   "source": [
    "!nvidia-smi"
   ]
  },
  {
   "cell_type": "markdown",
   "metadata": {},
   "source": [
    "* libraries"
   ]
  },
  {
   "cell_type": "code",
   "execution_count": 2,
   "metadata": {},
   "outputs": [],
   "source": [
    "import os\n",
    "\n",
    "import sys\n",
    "sys.path.append(f\"../../3_train_and_test_models\")"
   ]
  },
  {
   "cell_type": "code",
   "execution_count": 3,
   "metadata": {},
   "outputs": [
    {
     "name": "stderr",
     "output_type": "stream",
     "text": [
      "2025-04-04 12:22:49.947720: I tensorflow/core/util/port.cc:153] oneDNN custom operations are on. You may see slightly different numerical results due to floating-point round-off errors from different computation orders. To turn them off, set the environment variable `TF_ENABLE_ONEDNN_OPTS=0`.\n",
      "2025-04-04 12:22:49.959871: E external/local_xla/xla/stream_executor/cuda/cuda_fft.cc:477] Unable to register cuFFT factory: Attempting to register factory for plugin cuFFT when one has already been registered\n",
      "WARNING: All log messages before absl::InitializeLog() is called are written to STDERR\n",
      "E0000 00:00:1743783769.972774  350708 cuda_dnn.cc:8310] Unable to register cuDNN factory: Attempting to register factory for plugin cuDNN when one has already been registered\n",
      "E0000 00:00:1743783769.976469  350708 cuda_blas.cc:1418] Unable to register cuBLAS factory: Attempting to register factory for plugin cuBLAS when one has already been registered\n",
      "2025-04-04 12:22:49.991763: I tensorflow/core/platform/cpu_feature_guard.cc:210] This TensorFlow binary is optimized to use available CPU instructions in performance-critical operations.\n",
      "To enable the following instructions: AVX2 AVX512F AVX512_VNNI AVX512_BF16 FMA, in other operations, rebuild TensorFlow with the appropriate compiler flags.\n"
     ]
    }
   ],
   "source": [
    "import numpy as np\n",
    "import pandas as pd\n",
    "import torch\n",
    "import torch.nn as nn\n",
    "import torch.optim as optim\n",
    "import warnings\n",
    "\n",
    "from tqdm import tqdm\n",
    "from torch.utils.data import DataLoader\n",
    "from torch import Tensor\n",
    "from einops import rearrange\n",
    "from typing import Callable, List, Optional, Union\n",
    "from params import Params, ROOT\n",
    "from generators import TrainGenerator_MultiSpecies, ValGenerator_MultiSpecies, TestGenerator_SingleSpecies\n",
    "from sklearn.metrics import average_precision_score, roc_auc_score, confusion_matrix, log_loss"
   ]
  },
  {
   "cell_type": "code",
   "execution_count": 4,
   "metadata": {},
   "outputs": [
    {
     "name": "stderr",
     "output_type": "stream",
     "text": [
      "/net/talisker/home/benos/mae117/.conda/envs/genomic_tools/lib/python3.10/site-packages/tqdm/auto.py:21: TqdmWarning: IProgress not found. Please update jupyter and ipywidgets. See https://ipywidgets.readthedocs.io/en/stable/user_install.html\n",
      "  from .autonotebook import tqdm as notebook_tqdm\n"
     ]
    }
   ],
   "source": [
    "# gReLU \"Genomics\" Zoo!\n",
    "import grelu.resources\n",
    "\n",
    "from grelu.model.blocks import ChannelTransformBlock, LinearBlock\n",
    "from grelu.model.layers import AdaptivePool\n",
    "from grelu.model.layers import (\n",
    "    Activation,\n",
    "    Attention,\n",
    "    ChannelTransform,\n",
    "    Crop,\n",
    "    Dropout,\n",
    "    Norm,\n",
    "    Pool,\n",
    ")"
   ]
  },
  {
   "cell_type": "markdown",
   "metadata": {},
   "source": [
    "## Define helper functions"
   ]
  },
  {
   "cell_type": "code",
   "execution_count": null,
   "metadata": {},
   "outputs": [],
   "source": [
    "def get_model_files(tf, test_species):\n",
    "    # This function returns the filepath where the model for a given\n",
    "    # TF, training species, and run is saved.\n",
    "    # By default, the file for the best model across all training epochs\n",
    "    # is returned and we grab the latest trained model.\n",
    "\n",
    "    model_path = ROOT + \"/\".join([\"/models\", tf, test_species + \"_tested\", \"MORALE/\"])\n",
    "    feature_extractor_suffix = \".feature_extractor.pt\"\n",
    "\n",
    "    # get all files that match the prefix and suffix\n",
    "    feature_extractor_files = [f for f in os.listdir(model_path) if f.endswith(feature_extractor_suffix)]\n",
    "    \n",
    "    # sort files and return the one that is most recent\n",
    "    latest_feature_extractor_file   = max([model_path + f for f in feature_extractor_files], key=os.path.getctime)\n",
    "\n",
    "    return latest_feature_extractor_file\n",
    "\n",
    "def get_embedding_file(tf, test_species):\n",
    "    preds_root = ROOT + \"/embeddings\"\n",
    "    os.makedirs(preds_root, exist_ok=True)\n",
    "    return f\"{preds_root}/MORALE_{tf}_{test_species}-tested.embedding\"\n",
    "\n",
    "def get_label_file(tf, test_species):\n",
    "    preds_root = ROOT + \"/embeddings\"\n",
    "    os.makedirs(preds_root, exist_ok=True)\n",
    "    return f\"{preds_root}/MORALE_{tf}_{test_species}-tested.labels\""
   ]
  },
  {
   "cell_type": "markdown",
   "metadata": {},
   "source": [
    "## Load in model"
   ]
  },
  {
   "cell_type": "code",
   "execution_count": 6,
   "metadata": {},
   "outputs": [],
   "source": [
    "'''\n",
    "Our baseline model built off of code from the gReLU model zoo. Anecdotally,\n",
    "I find this inital convolutional block we have been using performs quite well,\n",
    "so we port it over and add the bidirectional GRU here, instead of the LSTM\n",
    "we use for the two-species model.\n",
    "'''\n",
    "\n",
    "class ConvHead(nn.Module):\n",
    "    \"\"\"\n",
    "    A 1x1 Conv layer that transforms the the number of channels in the input and then\n",
    "    optionally pools along the length axis.\n",
    "\n",
    "    Args:\n",
    "        n_tasks: Number of tasks (output channels)\n",
    "        in_channels: Number of channels in the input\n",
    "        norm: If True, batch normalization will be included.\n",
    "        act_func: Activation function for the convolutional layer\n",
    "        pool_func: Pooling function.\n",
    "        dtype: Data type for the layers.\n",
    "        device: Device for the layers.\n",
    "    \"\"\"\n",
    "\n",
    "    def __init__(\n",
    "        self,\n",
    "        n_tasks: int,\n",
    "        in_channels: int,\n",
    "        act_func: Optional[str] = None,\n",
    "        pool_func: Optional[str] = None,\n",
    "        norm: bool = False,\n",
    "        dtype=None,\n",
    "        device=None,\n",
    "    ) -> None:\n",
    "        super().__init__()\n",
    "        # Save all params\n",
    "        self.n_tasks = n_tasks\n",
    "        self.in_channels = in_channels\n",
    "        self.act_func = act_func\n",
    "        self.pool_func = pool_func\n",
    "        self.norm = norm\n",
    "\n",
    "        # Create layers\n",
    "        self.channel_transform = ChannelTransformBlock(\n",
    "            self.in_channels,\n",
    "            self.n_tasks,\n",
    "            act_func=self.act_func,\n",
    "            norm=self.norm#,\n",
    "            # dtype=dtype,\n",
    "            # device=device\n",
    "        )\n",
    "        self.pool = AdaptivePool(self.pool_func)\n",
    "\n",
    "    def forward(self, x: torch.Tensor) -> torch.Tensor:\n",
    "        \"\"\"\n",
    "        Args:\n",
    "            x : Input data.\n",
    "        \"\"\"\n",
    "        x = self.channel_transform(x)\n",
    "        x = self.pool(x)\n",
    "        return x\n",
    "\n",
    "class LinearBlock(nn.Module):\n",
    "    \"\"\"\n",
    "    Linear layer followed by optional normalization,\n",
    "    activation and dropout.\n",
    "\n",
    "    Args:\n",
    "        in_len: Length of input\n",
    "        out_len: Length of output\n",
    "        act_func: Name of activation function\n",
    "        dropout: Dropout probability\n",
    "        norm: If True, apply layer normalization\n",
    "        bias: If True, include bias term.\n",
    "        dtype: Data type of the weights\n",
    "        device: Device on which to store the weights\n",
    "    \"\"\"\n",
    "\n",
    "    def __init__(\n",
    "        self,\n",
    "        in_len: int,\n",
    "        out_len: int,\n",
    "        act_func: str = \"relu\",\n",
    "        dropout: float = 0.0,\n",
    "        norm: bool = False,\n",
    "        bias: bool = True,\n",
    "        dtype=None,\n",
    "        device=None,\n",
    "    ) -> None:\n",
    "        super().__init__()\n",
    "\n",
    "        self.norm = Norm(\n",
    "            func=\"layer\" if norm else None, in_dim=in_len, dtype=dtype, device=device\n",
    "        )\n",
    "        self.linear = nn.Linear(in_len, out_len, bias=bias, dtype=dtype, device=device)\n",
    "        self.dropout = Dropout(dropout)\n",
    "        self.act = Activation(act_func)\n",
    "\n",
    "    def forward(self, x: Tensor) -> Tensor:\n",
    "        \"\"\"\n",
    "        Forward pass\n",
    "\n",
    "        Args:\n",
    "            x : Input tensor of shape (N, C, L)\n",
    "\n",
    "        Returns:\n",
    "            Output tensor\n",
    "        \"\"\"\n",
    "        x = self.norm(x)\n",
    "        x = self.linear(x)\n",
    "        x = self.dropout(x)\n",
    "        x = self.act(x)\n",
    "        return x\n",
    "    \n",
    "class FeedForwardBlock(nn.Module):\n",
    "    \"\"\"\n",
    "    2-layer feed-forward network. Can be used to follow layers such as GRU and attention.\n",
    "\n",
    "    Args:\n",
    "        in_len: Length of the input tensor\n",
    "        dropout: Dropout probability\n",
    "        act_func: Name of the activation function\n",
    "        kwargs: Additional arguments to be passed to the linear layers\n",
    "    \"\"\"\n",
    "\n",
    "    def __init__(\n",
    "        self,\n",
    "        in_len: int,\n",
    "        dropout: float = 0.0,\n",
    "        act_func: str = \"relu\",\n",
    "        **kwargs,\n",
    "    ) -> None:\n",
    "        super().__init__()\n",
    "        self.dense1 = LinearBlock(\n",
    "            in_len,\n",
    "            in_len * 2,\n",
    "            norm=True,\n",
    "            dropout=dropout,\n",
    "            act_func=act_func,\n",
    "            bias=True,\n",
    "            **kwargs,\n",
    "        )\n",
    "        self.dense2 = LinearBlock(\n",
    "            in_len * 2,\n",
    "            in_len,\n",
    "            norm=False,\n",
    "            dropout=dropout,\n",
    "            act_func=None,\n",
    "            bias=True,\n",
    "            **kwargs,\n",
    "        )\n",
    "\n",
    "    def forward(self, x: Tensor) -> Tensor:\n",
    "        \"\"\"\n",
    "        Forward pass\n",
    "\n",
    "        Args:\n",
    "            x : Input tensor of shape (N, C, L)\n",
    "\n",
    "        Returns:\n",
    "            Output tensor\n",
    "        \"\"\"\n",
    "        x = self.dense1(x)\n",
    "        x = self.dense2(x)\n",
    "        return x\n",
    "    \n",
    "class GRUBlock(nn.Module):\n",
    "    \"\"\"\n",
    "    Stacked bidirectional GRU layers followed by a feed-forward network.\n",
    "\n",
    "    Args:\n",
    "        in_channels: The number of channels in the input\n",
    "        n_layers: The number of GRU layers\n",
    "        gru_hidden_size: Number of hidden elements in GRU layers\n",
    "        dropout: Dropout probability\n",
    "        act_func: Name of the activation function for feed-forward network\n",
    "        norm: If True, include layer normalization in feed-forward network.\n",
    "        dtype: Data type of the weights\n",
    "        device: Device on which to store the weights\n",
    "    \"\"\"\n",
    "\n",
    "    def __init__(\n",
    "        self,\n",
    "        in_channels: int,\n",
    "        n_layers: int = 1,\n",
    "        dropout: float = 0.0,\n",
    "        act_func: str = \"relu\",\n",
    "        norm: bool = False,\n",
    "        dtype=None,\n",
    "        device=None,\n",
    "    ) -> None:\n",
    "        super().__init__()\n",
    "\n",
    "        self.gru = nn.GRU(\n",
    "            input_size=in_channels,\n",
    "            hidden_size=in_channels,\n",
    "            dropout=dropout,\n",
    "            bidirectional=True,\n",
    "            batch_first=True,\n",
    "            num_layers=n_layers,\n",
    "            dtype=dtype,\n",
    "            device=device,\n",
    "        )\n",
    "        self.ffn = FeedForwardBlock(\n",
    "            in_len=in_channels,\n",
    "            dropout=dropout,\n",
    "            act_func=act_func,\n",
    "            dtype=dtype,\n",
    "            device=device,\n",
    "        )\n",
    "\n",
    "    def forward(self, x: Tensor) -> Tensor:\n",
    "        \"\"\"\n",
    "        Forward pass\n",
    "\n",
    "        Args:\n",
    "            x : Input tensor of shape (N, C, L)\n",
    "\n",
    "        Returns:\n",
    "            Output tensor\n",
    "        \"\"\"\n",
    "        x = rearrange(x, \"b t l -> b l t\")\n",
    "        x = self.gru(x)[0]\n",
    "        # Combine output of forward and reverse GRU\n",
    "        x = x[:, :, : self.gru.hidden_size] + x[:, :, self.gru.hidden_size :]\n",
    "        x = self.ffn(x)\n",
    "        x = rearrange(x, \"b l t -> b t l\")\n",
    "        return x"
   ]
  },
  {
   "cell_type": "code",
   "execution_count": 7,
   "metadata": {},
   "outputs": [],
   "source": [
    "class FeatureExtractor(nn.Module):\n",
    "    def __init__(self, params):\n",
    "        super(FeatureExtractor, self).__init__()\n",
    "        self.conv1          = nn.Conv1d(in_channels=4, out_channels=params.convfilters, kernel_size=params.filtersize, padding=\"same\")\n",
    "        self.pool           = nn.MaxPool1d(kernel_size=params.pool_size+1, stride=params.strides+1, padding=params.pool_size // 2)\n",
    "        self.gru_tower      = GRUBlock(\n",
    "            in_channels=params.convfilters,\n",
    "            n_layers=1,\n",
    "            dropout= 0.0,\n",
    "            act_func=\"relu\",\n",
    "            norm=False,\n",
    "            device=None,\n",
    "            dtype=None\n",
    "        )\n",
    "        self.pooled_embedding=ConvHead(\n",
    "            n_tasks=(params.lstmnodes*2)-1,\n",
    "            in_channels=params.convfilters,\n",
    "            pool_func=\"avg\",\n",
    "            act_func=None,\n",
    "            norm=False,\n",
    "            dtype=None,\n",
    "            device=None\n",
    "        )\n",
    "    \n",
    "    def forward(self, x):\n",
    "        x = x.transpose(1, 2)                   # -> [B, C, S]\n",
    "        x = self.conv1(x)\n",
    "        x = torch.nn.functional.relu(x)\n",
    "        x = self.pool(x)\n",
    "        embedding = self.gru_tower(x)\n",
    "        pooled_embedding = self.pooled_embedding(embedding)\n",
    "        return pooled_embedding"
   ]
  },
  {
   "cell_type": "markdown",
   "metadata": {},
   "source": [
    "# `Main`"
   ]
  },
  {
   "cell_type": "code",
   "execution_count": 8,
   "metadata": {},
   "outputs": [],
   "source": [
    "SAVE = False\n",
    "\n",
    "seed = 1182024\n",
    "\n",
    "torch.manual_seed(seed)\n",
    " \n",
    "np.random.seed(seed)"
   ]
  },
  {
   "cell_type": "code",
   "execution_count": 9,
   "metadata": {},
   "outputs": [
    {
     "name": "stdout",
     "output_type": "stream",
     "text": [
      "\n",
      "Using device: cuda\n"
     ]
    }
   ],
   "source": [
    "device = 'cuda' if torch.cuda.is_available() else 'cpu'\n",
    "\n",
    "print(f\"\\nUsing device: {device}\")"
   ]
  },
  {
   "cell_type": "code",
   "execution_count": 10,
   "metadata": {},
   "outputs": [
    {
     "name": "stdout",
     "output_type": "stream",
     "text": [
      "{'bindingtrainnegfiles': {'canFam6': '/net/talisker/home/benos/mae117/Documents/research/dennis/domain_adaptation/MORALE/multi-species/data/canFam6/HNF6/train_neg_shuf.bed',\n",
      "                          'hg38': '/net/talisker/home/benos/mae117/Documents/research/dennis/domain_adaptation/MORALE/multi-species/data/hg38/HNF6/train_neg_shuf.bed',\n",
      "                          'mm10': '/net/talisker/home/benos/mae117/Documents/research/dennis/domain_adaptation/MORALE/multi-species/data/mm10/HNF6/train_neg_shuf.bed',\n",
      "                          'rheMac10': '/net/talisker/home/benos/mae117/Documents/research/dennis/domain_adaptation/MORALE/multi-species/data/rheMac10/HNF6/train_neg_shuf.bed',\n",
      "                          'rn7': '/net/talisker/home/benos/mae117/Documents/research/dennis/domain_adaptation/MORALE/multi-species/data/rn7/HNF6/train_neg_shuf.bed'},\n",
      " 'bindingtrainposfiles': {'canFam6': '/net/talisker/home/benos/mae117/Documents/research/dennis/domain_adaptation/MORALE/multi-species/data/canFam6/HNF6/train_pos_shuf.bed',\n",
      "                          'hg38': '/net/talisker/home/benos/mae117/Documents/research/dennis/domain_adaptation/MORALE/multi-species/data/hg38/HNF6/train_pos_shuf.bed',\n",
      "                          'mm10': '/net/talisker/home/benos/mae117/Documents/research/dennis/domain_adaptation/MORALE/multi-species/data/mm10/HNF6/train_pos_shuf.bed',\n",
      "                          'rheMac10': '/net/talisker/home/benos/mae117/Documents/research/dennis/domain_adaptation/MORALE/multi-species/data/rheMac10/HNF6/train_pos_shuf.bed',\n",
      "                          'rn7': '/net/talisker/home/benos/mae117/Documents/research/dennis/domain_adaptation/MORALE/multi-species/data/rn7/HNF6/train_pos_shuf.bed'},\n",
      " 'convfilters': 240,\n",
      " 'dl1nodes': 1024,\n",
      " 'dl2nodes': 512,\n",
      " 'domain_indices': {'canFam6': 3,\n",
      "                    'hg38': 1,\n",
      "                    'mm10': 0,\n",
      "                    'rheMac10': 2,\n",
      "                    'rn7': 4},\n",
      " 'dropout': 0.5,\n",
      " 'epochs': 15,\n",
      " 'filtersize': 20,\n",
      " 'genome_files': {'canFam6': '/net/talisker/home/benos/mae117/Documents/research/dennis/domain_adaptation/MORALE/multi-species/raw_data/canFam6/canFam6.fa',\n",
      "                  'hg38': '/net/talisker/home/benos/mae117/Documents/research/dennis/domain_adaptation/MORALE/multi-species/raw_data/hg38/hg38.fa',\n",
      "                  'mm10': '/net/talisker/home/benos/mae117/Documents/research/dennis/domain_adaptation/MORALE/multi-species/raw_data/mm10/mm10.fa',\n",
      "                  'rheMac10': '/net/talisker/home/benos/mae117/Documents/research/dennis/domain_adaptation/MORALE/multi-species/raw_data/rheMac10/rheMac10.fa',\n",
      "                  'rn7': '/net/talisker/home/benos/mae117/Documents/research/dennis/domain_adaptation/MORALE/multi-species/raw_data/rn7/rn7.fa'},\n",
      " 'lens': {'canFam6': {'neg': 35608204,\n",
      "                      'pos': 136316,\n",
      "                      'species': 35744520,\n",
      "                      'test': 3889540,\n",
      "                      'validation': 4381696},\n",
      "          'hg38': {'neg': 42923513,\n",
      "                   'pos': 252610,\n",
      "                   'species': 43176123,\n",
      "                   'test': 4672482,\n",
      "                   'validation': 5326852},\n",
      "          'mm10': {'neg': 36633910,\n",
      "                   'pos': 783303,\n",
      "                   'species': 37417213,\n",
      "                   'test': 4117190,\n",
      "                   'validation': 4626090},\n",
      "          'rheMac10': {'neg': 43062018,\n",
      "                       'pos': 141619,\n",
      "                       'species': 43203637,\n",
      "                       'test': 4496183,\n",
      "                       'validation': 5449351},\n",
      "          'rn7': {'neg': 39563952,\n",
      "                  'pos': 331068,\n",
      "                  'species': 39895020,\n",
      "                  'test': 4297500,\n",
      "                  'validation': 4867426}},\n",
      " 'lstmnodes': 32,\n",
      " 'model_name': 'Testing',\n",
      " 'modeldir': '/net/talisker/home/benos/mae117/Documents/research/dennis/domain_adaptation/MORALE/multi-species/models/HNF6/hg38_tested/Testing',\n",
      " 'modelfile': '/net/talisker/home/benos/mae117/Documents/research/dennis/domain_adaptation/MORALE/multi-species/models/HNF6/hg38_tested/Testing/2025-04-04_12-22-57',\n",
      " 'pool_size': 15,\n",
      " 'seqlen': 1000,\n",
      " 'source_species': ['mm10', 'rheMac10', 'canFam6', 'rn7'],\n",
      " 'speciestrainfiles': {'canFam6': '/net/talisker/home/benos/mae117/Documents/research/dennis/domain_adaptation/MORALE/multi-species/data/canFam6/HNF6/train_shuf.bed',\n",
      "                       'hg38': '/net/talisker/home/benos/mae117/Documents/research/dennis/domain_adaptation/MORALE/multi-species/data/hg38/HNF6/train_shuf.bed',\n",
      "                       'mm10': '/net/talisker/home/benos/mae117/Documents/research/dennis/domain_adaptation/MORALE/multi-species/data/mm10/HNF6/train_shuf.bed',\n",
      "                       'rheMac10': '/net/talisker/home/benos/mae117/Documents/research/dennis/domain_adaptation/MORALE/multi-species/data/rheMac10/HNF6/train_shuf.bed',\n",
      "                       'rn7': '/net/talisker/home/benos/mae117/Documents/research/dennis/domain_adaptation/MORALE/multi-species/data/rn7/HNF6/train_shuf.bed'},\n",
      " 'strides': 15,\n",
      " 'target_species': 'hg38',\n",
      " 'test_labels': {'canFam6': array([0, 0, 0, ..., 0, 0, 0]),\n",
      "                 'hg38': array([0, 0, 0, ..., 0, 0, 0]),\n",
      "                 'mm10': array([0, 0, 0, ..., 0, 0, 0]),\n",
      "                 'rheMac10': array([0, 0, 0, ..., 0, 0, 0]),\n",
      "                 'rn7': array([0, 0, 0, ..., 0, 0, 0])},\n",
      " 'test_steps': {'canFam6': 388,\n",
      "                'hg38': 467,\n",
      "                'mm10': 411,\n",
      "                'rheMac10': 449,\n",
      "                'rn7': 429},\n",
      " 'testbatchsize': 10000,\n",
      " 'testfiles': {'canFam6': '/net/talisker/home/benos/mae117/Documents/research/dennis/domain_adaptation/MORALE/multi-species/data/canFam6/HNF6/test_shuf.bed',\n",
      "               'hg38': '/net/talisker/home/benos/mae117/Documents/research/dennis/domain_adaptation/MORALE/multi-species/data/hg38/HNF6/test_shuf.bed',\n",
      "               'mm10': '/net/talisker/home/benos/mae117/Documents/research/dennis/domain_adaptation/MORALE/multi-species/data/mm10/HNF6/test_shuf.bed',\n",
      "               'rheMac10': '/net/talisker/home/benos/mae117/Documents/research/dennis/domain_adaptation/MORALE/multi-species/data/rheMac10/HNF6/test_shuf.bed',\n",
      "               'rn7': '/net/talisker/home/benos/mae117/Documents/research/dennis/domain_adaptation/MORALE/multi-species/data/rn7/HNF6/test_shuf.bed'},\n",
      " 'tf': 'HNF6',\n",
      " 'val_labels': {'canFam6': array([0, 0, 0, ..., 0, 0, 0]),\n",
      "                'hg38': array([0, 0, 0, ..., 0, 0, 0]),\n",
      "                'mm10': array([0, 0, 0, ..., 0, 0, 0]),\n",
      "                'rheMac10': array([0, 1, 0, ..., 0, 0, 0]),\n",
      "                'rn7': array([0, 0, 0, ..., 0, 0, 0])},\n",
      " 'val_steps': {'canFam6': 438,\n",
      "               'hg38': 532,\n",
      "               'mm10': 462,\n",
      "               'rheMac10': 544,\n",
      "               'rn7': 486},\n",
      " 'valbatchsize': 10000,\n",
      " 'valfiles': {'canFam6': '/net/talisker/home/benos/mae117/Documents/research/dennis/domain_adaptation/MORALE/multi-species/data/canFam6/HNF6/val_shuf.bed',\n",
      "              'hg38': '/net/talisker/home/benos/mae117/Documents/research/dennis/domain_adaptation/MORALE/multi-species/data/hg38/HNF6/val_shuf.bed',\n",
      "              'mm10': '/net/talisker/home/benos/mae117/Documents/research/dennis/domain_adaptation/MORALE/multi-species/data/mm10/HNF6/val_shuf.bed',\n",
      "              'rheMac10': '/net/talisker/home/benos/mae117/Documents/research/dennis/domain_adaptation/MORALE/multi-species/data/rheMac10/HNF6/val_shuf.bed',\n",
      "              'rn7': '/net/talisker/home/benos/mae117/Documents/research/dennis/domain_adaptation/MORALE/multi-species/data/rn7/HNF6/val_shuf.bed'}}\n"
     ]
    }
   ],
   "source": [
    "args        = [\"HNF6\", \"hg38\"]\n",
    "tf, target  = args\n",
    "params      = Params(args = [\"Testing\", tf, target], verbose=True)"
   ]
  },
  {
   "cell_type": "code",
   "execution_count": 11,
   "metadata": {},
   "outputs": [
    {
     "name": "stdout",
     "output_type": "stream",
     "text": [
      "Feature Extractor Architecture:\n",
      "FeatureExtractor(\n",
      "  (conv1): Conv1d(4, 240, kernel_size=(20,), stride=(1,), padding=same)\n",
      "  (pool): MaxPool1d(kernel_size=16, stride=16, padding=7, dilation=1, ceil_mode=False)\n",
      "  (gru_tower): GRUBlock(\n",
      "    (gru): GRU(240, 240, batch_first=True, bidirectional=True)\n",
      "    (ffn): FeedForwardBlock(\n",
      "      (dense1): LinearBlock(\n",
      "        (norm): Norm(\n",
      "          (layer): LayerNorm((240,), eps=1e-05, elementwise_affine=True)\n",
      "        )\n",
      "        (linear): Linear(in_features=240, out_features=480, bias=True)\n",
      "        (dropout): Dropout(\n",
      "          (layer): Identity()\n",
      "        )\n",
      "        (act): Activation(\n",
      "          (layer): ReLU()\n",
      "        )\n",
      "      )\n",
      "      (dense2): LinearBlock(\n",
      "        (norm): Norm(\n",
      "          (layer): Identity()\n",
      "        )\n",
      "        (linear): Linear(in_features=480, out_features=240, bias=True)\n",
      "        (dropout): Dropout(\n",
      "          (layer): Identity()\n",
      "        )\n",
      "        (act): Activation(\n",
      "          (layer): Identity()\n",
      "        )\n",
      "      )\n",
      "    )\n",
      "  )\n",
      "  (pooled_embedding): ConvHead(\n",
      "    (channel_transform): ChannelTransformBlock(\n",
      "      (norm): Norm(\n",
      "        (layer): Identity()\n",
      "      )\n",
      "      (conv): ChannelTransform(\n",
      "        (layer): Conv1d(240, 63, kernel_size=(1,), stride=(1,), padding=same)\n",
      "      )\n",
      "      (act): Activation(\n",
      "        (layer): Identity()\n",
      "      )\n",
      "      (dropout): Dropout(\n",
      "        (layer): Identity()\n",
      "      )\n",
      "    )\n",
      "    (pool): AdaptivePool(\n",
      "      (layer): AdaptiveAvgPool1d(output_size=1)\n",
      "    )\n",
      "  )\n",
      ")\n",
      "\n"
     ]
    }
   ],
   "source": [
    "feature_extractor = FeatureExtractor(params)\n",
    "feature_extractor = feature_extractor.to(device)\n",
    "feature_params = sum(p.numel() for p in feature_extractor.parameters())\n",
    "print(f\"Feature Extractor Architecture:\\n{feature_extractor}\\n\")"
   ]
  },
  {
   "cell_type": "code",
   "execution_count": 12,
   "metadata": {},
   "outputs": [
    {
     "name": "stdout",
     "output_type": "stream",
     "text": [
      "Total number of parameters: 960303\n"
     ]
    }
   ],
   "source": [
    "total_params = feature_params\n",
    "print(f\"Total number of parameters: {total_params}\")"
   ]
  },
  {
   "cell_type": "code",
   "execution_count": null,
   "metadata": {},
   "outputs": [],
   "source": [
    "feature_extractor_file  = get_model_files(tf, target)\n",
    "embedding_file          = get_embedding_file(tf, target)\n",
    "label_file              = get_label_file(tf, target)"
   ]
  },
  {
   "cell_type": "code",
   "execution_count": null,
   "metadata": {},
   "outputs": [
    {
     "name": "stdout",
     "output_type": "stream",
     "text": [
      "Loading feature extractor from /net/talisker/home/benos/mae117/Documents/research/dennis/domain_adaptation/MORALE/multi-species/models/HNF6/hg38_tested/MORALE/2025-03-06_15-35-48.feature_extractor.pt\n",
      "\n"
     ]
    },
    {
     "name": "stderr",
     "output_type": "stream",
     "text": [
      "/net/talisker/home/benos/mae117/.local/share/Trash/ipykernel_350708/3865903206.py:2: FutureWarning: You are using `torch.load` with `weights_only=False` (the current default value), which uses the default pickle module implicitly. It is possible to construct malicious pickle data which will execute arbitrary code during unpickling (See https://github.com/pytorch/pytorch/blob/main/SECURITY.md#untrusted-models for more details). In a future release, the default value for `weights_only` will be flipped to `True`. This limits the functions that could be executed during unpickling. Arbitrary objects will no longer be allowed to be loaded via this mode unless they are explicitly allowlisted by the user via `torch.serialization.add_safe_globals`. We recommend you start setting `weights_only=True` for any use case where you don't have full control of the loaded file. Please open an issue on GitHub for any issues related to this experimental feature.\n",
      "  feature_extractor.load_state_dict(torch.load(feature_extractor_file))\n"
     ]
    },
    {
     "data": {
      "text/plain": [
       "<All keys matched successfully>"
      ]
     },
     "execution_count": 14,
     "metadata": {},
     "output_type": "execute_result"
    }
   ],
   "source": [
    "print(f\"Loading feature extractor from {feature_extractor_file}\\n\")\n",
    "feature_extractor.load_state_dict(torch.load(feature_extractor_file))"
   ]
  },
  {
   "cell_type": "markdown",
   "metadata": {},
   "source": [
    "* Create data generator (test, on the single, target species)"
   ]
  },
  {
   "cell_type": "code",
   "execution_count": 15,
   "metadata": {},
   "outputs": [],
   "source": [
    "def test_collate(batch):\n",
    "    data    = torch.cat([dict_item['sequence'] for dict_item in batch]).float()\n",
    "    label   = torch.stack([dict_item['label'] for dict_item in batch]).int()\n",
    "    \n",
    "    return {\n",
    "        \"sequence\": data,\n",
    "        \"label\": label\n",
    "    }\n",
    "\n",
    "batch_size  = 10000\n",
    "teg_ss      = TestGenerator_SingleSpecies(params=params, percent_to_batch=1.0)\n",
    "\n",
    "test_loader = DataLoader(\n",
    "    dataset=teg_ss,\n",
    "\tbatch_size=batch_size,\n",
    "    pin_memory=True,\n",
    "    collate_fn=test_collate\n",
    ")"
   ]
  },
  {
   "cell_type": "markdown",
   "metadata": {},
   "source": [
    "* loop over test data and save embeddings"
   ]
  },
  {
   "cell_type": "code",
   "execution_count": null,
   "metadata": {},
   "outputs": [
    {
     "name": "stderr",
     "output_type": "stream",
     "text": [
      "  0%|          | 0/200 [00:00<?, ?it/s]"
     ]
    }
   ],
   "source": [
    "seed        = 1182024\n",
    "\n",
    "torch.manual_seed(seed)\n",
    "\n",
    "np.random.seed(seed)"
   ]
  },
  {
   "cell_type": "code",
   "execution_count": null,
   "metadata": {},
   "outputs": [
    {
     "name": "stdout",
     "output_type": "stream",
     "text": [
      "Generating predictions for hg38-on-hg38.\n",
      "\n"
     ]
    },
    {
     "name": "stderr",
     "output_type": "stream",
     "text": [
      "/net/talisker/home/benos/mae117/.local/share/Trash/ipykernel_350708/1938463178.py:12: UserWarning: To copy construct from a tensor, it is recommended to use sourceTensor.clone().detach() or sourceTensor.clone().detach().requires_grad_(True), rather than torch.tensor(sourceTensor).\n",
      "  curr_data = torch.tensor(data['sequence'], dtype=torch.float32).to(device)\n",
      "/net/talisker/home/benos/mae117/.conda/envs/genomic_tools/lib/python3.10/site-packages/torch/nn/modules/conv.py:370: UserWarning: Using padding='same' with even kernel lengths and odd dilation may require a zero-padded copy of the input be created (Triggered internally at /opt/conda/conda-bld/pytorch_1729647352509/work/aten/src/ATen/native/Convolution.cpp:1036.)\n",
      "  return F.conv1d(\n",
      "100%|██████████| 200/200 [14:10<00:00,  4.25s/it]  \n"
     ]
    }
   ],
   "source": [
    "test_bar    = tqdm(enumerate(test_loader), total=len(test_loader))\n",
    "\n",
    "with torch.no_grad():\n",
    "\n",
    "    print(f\"Generating predictions for {target}-on-{target}.\\n\")\n",
    "\n",
    "    # Turn on evaluation mode\n",
    "    feature_extractor.eval()\n",
    "\n",
    "    # A list to store the embeddings\n",
    "    batch_embeddings_list       = []\n",
    "    batch_labels_list           = []\n",
    "    for batch_idx, data in test_bar:\n",
    "        curr_data = torch.tensor(data['sequence'], dtype=torch.float32).to(device)\n",
    "        batch_embeddings_list.append(feature_extractor(curr_data).squeeze().detach().cpu())\n",
    "        batch_labels_list.extend(data['label'].detach().cpu())\n",
    "\n",
    "    if SAVE:\n",
    "        # Combine all embeddings and save\n",
    "        all_embedding = torch.cat(batch_embeddings_list, dim=0).detach().cpu().numpy()\n",
    "        np.save(embedding_file, all_embedding)\n",
    "\n",
    "        # Combine all labels and save\n",
    "        all_labels = np.array(batch_labels_list, dtype=np.float32).T\n",
    "        np.save(label_file, all_labels)"
   ]
  },
  {
   "cell_type": "markdown",
   "metadata": {},
   "source": [
    "----"
   ]
  }
 ],
 "metadata": {
  "colab": {
   "provenance": [
    {
     "file_id": "1m6lv_mNOXtNSBYNVtoBXx1hjYM0C4Xnp",
     "timestamp": 1714405232382
    },
    {
     "file_id": "1v0sERmmfN36EMQhx8CrifijWm-r9ImVL",
     "timestamp": 1680632471048
    }
   ]
  },
  "kernelspec": {
   "display_name": "genomic_tools",
   "language": "python",
   "name": "python3"
  },
  "language_info": {
   "codemirror_mode": {
    "name": "ipython",
    "version": 3
   },
   "file_extension": ".py",
   "mimetype": "text/x-python",
   "name": "python",
   "nbconvert_exporter": "python",
   "pygments_lexer": "ipython3",
   "version": "3.10.14"
  }
 },
 "nbformat": 4,
 "nbformat_minor": 4
}
