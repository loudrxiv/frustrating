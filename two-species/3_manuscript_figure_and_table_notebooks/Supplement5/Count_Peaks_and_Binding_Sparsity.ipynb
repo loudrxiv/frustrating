{
 "cells": [
  {
   "cell_type": "markdown",
   "id": "f9b8ad56",
   "metadata": {},
   "source": [
    "# Load libraries, define constants, functions, and classes"
   ]
  },
  {
   "cell_type": "markdown",
   "id": "dd7206af",
   "metadata": {},
   "source": [
    "* libraries"
   ]
  },
  {
   "cell_type": "code",
   "execution_count": 1,
   "id": "855c298d",
   "metadata": {},
   "outputs": [],
   "source": [
    "import os\n",
    "\n",
    "import sys\n",
    "sys.path.append(\"../2_train_and_test_models\")\n",
    "\n",
    "import pandas as pd\n",
    "\n",
    "from collections import defaultdict\n",
    "from params import ROOT, GENOMES, TFS, SPECIES, Params"
   ]
  },
  {
   "cell_type": "markdown",
   "id": "a7235b57",
   "metadata": {},
   "source": [
    "* constants"
   ]
  },
  {
   "cell_type": "code",
   "execution_count": 2,
   "id": "eb66ac2a",
   "metadata": {},
   "outputs": [],
   "source": [
    "DATA_DIR        = ROOT + \"/data/\"\n",
    "RAW_DATA_DIR    = ROOT + \"/raw_data/\"\n",
    "\n",
    "fancy_species_names = {\"mm10\" : \"Mouse\", \"hg38\" : \"Human\"}\n",
    "fancy_tf_names      = {\"CTCF\" : \"CTCF\", \"CEBPA\" : \"CEBPA\", \"HNF4A\" : \"HNF4A\", \"RXRA\" : \"RXRA\"}"
   ]
  },
  {
   "cell_type": "code",
   "execution_count": 3,
   "id": "35ebe347",
   "metadata": {},
   "outputs": [],
   "source": [
    "# Column 1: raw peak counts, genome-wide (not just filtered data)\n",
    "\n",
    "def count_raw_peaks(species, tf):\n",
    "    peak_call_out_file = RAW_DATA_DIR + species +\"/\" + tf + \"/mgps_out_\" + tf + \".bed\"\n",
    "    with open(peak_call_out_file) as f:\n",
    "        num_lines = sum([1 for _ in f])\n",
    "    return num_lines - 1  # one row of header"
   ]
  },
  {
   "cell_type": "code",
   "execution_count": 4,
   "id": "6773735b",
   "metadata": {},
   "outputs": [],
   "source": [
    "# Columns 2 and 3: number of windows, bound windows, and peaks in filtered dataset\n",
    "\n",
    "def overlap(interval_a, interval_b):\n",
    "    a_start, a_end = interval_a\n",
    "    b_start, b_end = interval_b\n",
    "    return not (a_end <= b_start or b_end <= a_start)\n",
    "\n",
    "def merge_overlapping_windows(intervals):\n",
    "    # assuming the intervals are in sorted order\n",
    "    # and all the same chromosome\n",
    "    merged_intervals = []\n",
    "    curr_idx = 0\n",
    "    merging_buffer = []\n",
    "    \n",
    "    while curr_idx < len(intervals) - 1:\n",
    "        prev_interval = intervals[curr_idx]\n",
    "        new_interval = intervals[curr_idx + 1]\n",
    "        \n",
    "        if overlap(prev_interval, new_interval):\n",
    "            merging_buffer.append(prev_interval)\n",
    "        else:\n",
    "            if len(merging_buffer) > 0:\n",
    "                merging_buffer.append(prev_interval)\n",
    "                merge_start = merging_buffer[0][0]\n",
    "                merge_end = merging_buffer[-1][-1]\n",
    "                merged_intervals.append((merge_start, merge_end))\n",
    "                merging_buffer = []\n",
    "                \n",
    "            else:\n",
    "                merged_intervals.append(prev_interval)\n",
    "        \n",
    "        curr_idx += 1\n",
    "        \n",
    "    # finish with final interval in list\n",
    "    if len(merging_buffer) > 0:\n",
    "        merging_buffer.append(intervals[curr_idx])\n",
    "        merge_start = merging_buffer[0][0]\n",
    "        merge_end = merging_buffer[-1][-1]\n",
    "        merged_intervals.append((merge_start, merge_end))\n",
    "    else:\n",
    "        merged_intervals.append(intervals[curr_idx])\n",
    "        \n",
    "    return merged_intervals\n",
    "\n",
    "def count_filtered_peaks_and_windows(species, tf):\n",
    "    filtered_dataset_file = RAW_DATA_DIR + species +\"/\" + tf + \"/all.all\"\n",
    "    df = pd.read_csv(filtered_dataset_file, header=None, sep=\"\\t\")\n",
    "    num_windows = df.shape[0]\n",
    "    \n",
    "    df_bound = df[df[3] == 1]\n",
    "    num_bound_windows = df_bound.shape[0]\n",
    "    \n",
    "    merged_bound_windows = merge_overlapping_windows(list(zip(df_bound[1], df_bound[2])))\n",
    "    num_peaks_filtered = len(merged_bound_windows)\n",
    "    \n",
    "    return num_windows, num_bound_windows, num_peaks_filtered"
   ]
  },
  {
   "cell_type": "code",
   "execution_count": 5,
   "id": "c725065f",
   "metadata": {},
   "outputs": [
    {
     "name": "stdout",
     "output_type": "stream",
     "text": [
      "\\begin{table*}\n",
      "{\\setlength{\\tabcolsep}{0.8em}\n",
      "\\centerline{\\begin{tabular}{@{}cc|ccccc@{}}\\toprule\n",
      "TF & Species & Raw Peaks & Filtered Peaks & Bound Windows & Frac. Bound & Accession ID \\\\\\midrule\n",
      "CTCF & Mouse & 32006 & 28943 & 296117 & 0.71\\% & ENCSR000CBU \\\\\n",
      " & Human & 29067 & 26477 & 270100 & 0.55\\% & ENCSR911GFJ \\\\\n",
      "CEBPA & Mouse & 62636 & 48812 & 566945 & 1.35\\% & E-TABM-722 \\\\\n",
      " & Human & 32243 & 28545 & 298066 & 0.61\\% & E-TABM-722 \\\\\n",
      "HNF4A & Mouse & 44800 & 36540 & 415846 & 0.99\\% & E-TABM-722 \\\\\n",
      " & Human & 42766 & 34714 & 387077 & 0.79\\% & E-TABM-722 \\\\\n",
      "RXRA & Mouse & 46443 & 33751 & 404284 & 0.97\\% & GSM1299600 \\\\\n",
      " & Human & 95085 & 71032 & 854289 & 1.75\\% & ENCSR098XMN \\\\\\bottomrule\n",
      "\\end{tabular}}}{}\n",
      "\\captionof{table}{For the primary experimental data used in this study, the following \n",
      "quantities are listed: the number of peaks called across the entire genome; the number \n",
      "of called peaks within the filtered window set, merged if within 500 bp of each other; \n",
      "the number of windows in the filtered window set labeled bound due to peak overlap; the \n",
      "fraction of the filtered window set labeled bound; and the database accession ID (ENCODE, \n",
      "GEO, or ArrayExpress). The size of the filtered window sets for the mouse and human genomes were \n",
      "41883806 and 48742577, respectively.\n",
      "\\label{Tab:01}}\n",
      "\\end{table*}\n"
     ]
    }
   ],
   "source": [
    "expt_ids = {\"CTCF\" : {\"mm10\" : \"ENCSR000CBU\", \"hg38\" : \"ENCSR911GFJ\"},\n",
    "            \"CEBPA\" : {\"mm10\" : \"E-TABM-722\", \"hg38\" : \"E-TABM-722\"},\n",
    "            \"HNF4A\" : {\"mm10\" : \"E-TABM-722\", \"hg38\" : \"E-TABM-722\"},\n",
    "            \"RXRA\" : {\"mm10\" : \"GSM1299600\", \"hg38\" : \"ENCSR098XMN\"}}\n",
    "\n",
    "def print_full_table():\n",
    "    print(r'\\begin{table*}')\n",
    "    print(r'{\\setlength{\\tabcolsep}{0.8em}')\n",
    "    print(r'\\centerline{\\begin{tabular}{@{}cc|ccccc@{}}\\toprule')\n",
    "    print(r'TF & Species & Raw Peaks & Filtered Peaks & Bound Windows & Frac. Bound & Accession ID \\\\\\midrule')\n",
    "    \n",
    "    num_windows_all = defaultdict(lambda : set())\n",
    "    for tf in TFS:\n",
    "        for species in SPECIES:\n",
    "            tf_name = fancy_tf_names[tf]\n",
    "            species_name = fancy_species_names[species]\n",
    "            num_raw_peaks = count_raw_peaks(species, tf)\n",
    "            num_windows, num_bound_windows, num_peaks_filtered = count_filtered_peaks_and_windows(species, tf)\n",
    "            num_windows_all[species].add(num_windows)\n",
    "            bound_window_frac = 100 * num_bound_windows / num_windows\n",
    "            expt_id = expt_ids[tf][species]\n",
    "            \n",
    "            if species == SPECIES[0]:\n",
    "                to_print = tf_name + r' & '\n",
    "            else:\n",
    "                to_print = r' & '\n",
    "            to_print += species_name + r' & '\n",
    "            to_print += str(num_raw_peaks) + r' & '\n",
    "            to_print += str(num_peaks_filtered) + r' & '\n",
    "            to_print += str(num_bound_windows) + r' & '\n",
    "            to_print += \"%0.2f\" % bound_window_frac + r'\\% & '\n",
    "            if tf == TFS[-1] and species == SPECIES[-1]:\n",
    "                to_print += expt_id + r' \\\\\\bottomrule'\n",
    "            else:\n",
    "                to_print += expt_id + r' \\\\'\n",
    "            print(to_print)\n",
    "            \n",
    "    for species in SPECIES:\n",
    "        assert len(num_windows_all[species]) == 1, num_windows_all\n",
    "        \n",
    "    print(r'\\end{tabular}}}{}')\n",
    "    print(r'\\captionof{table}{For the primary experimental data used in this study, the following ')\n",
    "    print(r'quantities are listed: the number of peaks called across the entire genome; the number ')\n",
    "    print(r'of called peaks within the filtered window set, merged if within 500 bp of each other; ')\n",
    "    print(r'the number of windows in the filtered window set labeled bound due to peak overlap; the ')\n",
    "    print(r'fraction of the filtered window set labeled bound; and the database accession ID (ENCODE, ')\n",
    "    print(r'GEO, or ArrayExpress). The size of the filtered window sets for the mouse and human genomes were ')\n",
    "    print(str(num_windows_all[\"mm10\"].pop()) + \" and \" + str(num_windows_all[\"hg38\"].pop()) + \", respectively.\")\n",
    "    print(r'\\label{Tab:01}}')\n",
    "    print(r'\\end{table*}')\n",
    "    \n",
    "\n",
    "print_full_table()"
   ]
  },
  {
   "cell_type": "code",
   "execution_count": null,
   "id": "4e0d04cb",
   "metadata": {},
   "outputs": [],
   "source": []
  }
 ],
 "metadata": {
  "kernelspec": {
   "display_name": "genomic_tools",
   "language": "python",
   "name": "python3"
  },
  "language_info": {
   "codemirror_mode": {
    "name": "ipython",
    "version": 3
   },
   "file_extension": ".py",
   "mimetype": "text/x-python",
   "name": "python",
   "nbconvert_exporter": "python",
   "pygments_lexer": "ipython3",
   "version": "3.10.14"
  }
 },
 "nbformat": 4,
 "nbformat_minor": 5
}
